{
  "nbformat": 4,
  "nbformat_minor": 0,
  "metadata": {
    "colab": {
      "provenance": [],
      "toc_visible": true,
      "include_colab_link": true
    },
    "kernelspec": {
      "name": "python3",
      "display_name": "Python 3"
    },
    "language_info": {
      "name": "python"
    }
  },
  "cells": [
    {
      "cell_type": "markdown",
      "metadata": {
        "id": "view-in-github",
        "colab_type": "text"
      },
      "source": [
        "<a href=\"https://colab.research.google.com/github/Socrates-Simao/Projeto01_AluraStoreBr/blob/main/AluraStoreBr.ipynb\" target=\"_parent\"><img src=\"https://colab.research.google.com/assets/colab-badge.svg\" alt=\"Open In Colab\"/></a>"
      ]
    },
    {
      "cell_type": "markdown",
      "source": [
        "### Importação dos dados\n",
        "\n"
      ],
      "metadata": {
        "id": "RhEdWd9YUR6H"
      }
    },
    {
      "cell_type": "code",
      "execution_count": null,
      "metadata": {
        "colab": {
          "base_uri": "https://localhost:8080/"
        },
        "id": "T3EvaeQ_INIL",
        "outputId": "03f03f96-bbb5-4f06-9a65-aa208ad141ee"
      },
      "outputs": [
        {
          "output_type": "stream",
          "name": "stdout",
          "text": [
            "<class 'pandas.core.frame.DataFrame'>\n",
            "RangeIndex: 2359 entries, 0 to 2358\n",
            "Data columns (total 12 columns):\n",
            " #   Column                  Non-Null Count  Dtype  \n",
            "---  ------                  --------------  -----  \n",
            " 0   Produto                 2359 non-null   object \n",
            " 1   Categoria do Produto    2359 non-null   object \n",
            " 2   Preço                   2359 non-null   float64\n",
            " 3   Frete                   2359 non-null   float64\n",
            " 4   Data da Compra          2359 non-null   object \n",
            " 5   Vendedor                2359 non-null   object \n",
            " 6   Local da compra         2359 non-null   object \n",
            " 7   Avaliação da compra     2359 non-null   int64  \n",
            " 8   Tipo de pagamento       2359 non-null   object \n",
            " 9   Quantidade de parcelas  2359 non-null   int64  \n",
            " 10  lat                     2359 non-null   float64\n",
            " 11  lon                     2359 non-null   float64\n",
            "dtypes: float64(4), int64(2), object(6)\n",
            "memory usage: 221.3+ KB\n"
          ]
        }
      ],
      "source": [
        "import pandas as pd\n",
        "import matplotlib.pyplot as plt\n",
        "\n",
        "url = \"https://raw.githubusercontent.com/alura-es-cursos/challenge1-data-science/refs/heads/main/base-de-dados-challenge-1/loja_1.csv\"\n",
        "url2 = \"https://raw.githubusercontent.com/alura-es-cursos/challenge1-data-science/refs/heads/main/base-de-dados-challenge-1/loja_2.csv\"\n",
        "url3 = \"https://raw.githubusercontent.com/alura-es-cursos/challenge1-data-science/refs/heads/main/base-de-dados-challenge-1/loja_3.csv\"\n",
        "url4 = \"https://raw.githubusercontent.com/alura-es-cursos/challenge1-data-science/refs/heads/main/base-de-dados-challenge-1/loja_4.csv\"\n",
        "\n",
        "loja1 = pd.read_csv(url)\n",
        "loja2 = pd.read_csv(url2)\n",
        "loja3 = pd.read_csv(url3)\n",
        "loja4 = pd.read_csv(url4)\n",
        "\n",
        "loja1.info()"
      ]
    },
    {
      "cell_type": "markdown",
      "source": [
        "#1. Análise do faturamento\n"
      ],
      "metadata": {
        "id": "X62IW3KFUIYm"
      }
    },
    {
      "cell_type": "code",
      "source": [
        "faturamento_loja1 = loja1[\"Preço\"].sum()\n",
        "faturamento_loja2 = loja2[\"Preço\"].sum()\n",
        "faturamento_loja3 = loja3[\"Preço\"].sum()\n",
        "faturamento_loja4 = loja4[\"Preço\"].sum()\n",
        "\n",
        "print (faturamento_loja1)\n",
        "print (faturamento_loja2)\n",
        "print (faturamento_loja3)\n",
        "print (faturamento_loja4)"
      ],
      "metadata": {
        "id": "xykobSftV64I",
        "colab": {
          "base_uri": "https://localhost:8080/"
        },
        "outputId": "2b5e679a-5806-4520-9449-a49c380380d6"
      },
      "execution_count": null,
      "outputs": [
        {
          "output_type": "stream",
          "name": "stdout",
          "text": [
            "1534509.12\n",
            "1488459.06\n",
            "1464025.03\n",
            "1384497.58\n"
          ]
        }
      ]
    },
    {
      "cell_type": "code",
      "source": [
        "faturamento_total = faturamento_loja1 + faturamento_loja2 + faturamento_loja3 + faturamento_loja4\n",
        "print (faturamento_total)\n",
        "\n",
        "print(f\"Faturamento Loja 1: R$ {faturamento_loja1:,.2f}\")\n",
        "print(f\"Faturamento Loja 2: R$ {faturamento_loja2:,.2f}\")\n",
        "print(f\"Faturamento Loja 3: R$ {faturamento_loja3:,.2f}\")\n",
        "print(f\"Faturamento Loja 4: R$ {faturamento_loja4:,.2f}\")\n",
        "print(f\"Faturamento Total: R$ {faturamento_total:,.2f}\")"
      ],
      "metadata": {
        "id": "KDyr8E71V3m-",
        "colab": {
          "base_uri": "https://localhost:8080/"
        },
        "outputId": "34592ae0-2ec0-4037-e712-89768123d42e"
      },
      "execution_count": null,
      "outputs": [
        {
          "output_type": "stream",
          "name": "stdout",
          "text": [
            "5871490.79\n",
            "Faturamento Loja 1: R$ 1,534,509.12\n",
            "Faturamento Loja 2: R$ 1,488,459.06\n",
            "Faturamento Loja 3: R$ 1,464,025.03\n",
            "Faturamento Loja 4: R$ 1,384,497.58\n",
            "Faturamento Total: R$ 5,871,490.79\n"
          ]
        }
      ]
    },
    {
      "cell_type": "markdown",
      "source": [
        "# 2. Vendas por Categoria\n"
      ],
      "metadata": {
        "id": "2V_vcAPzWZmR"
      }
    },
    {
      "cell_type": "code",
      "source": [
        "produtos_mais_vendidos = loja1.groupby(\"Categoria do Produto\")[\"Preço\"].sum().sort_values(ascending=False)\n",
        "produtos_mais_vendidos = loja2.groupby(\"Categoria do Produto\")[\"Preço\"].sum().sort_values(ascending=False)\n",
        "produtos_mais_vendidos = loja3.groupby(\"Categoria do Produto\")[\"Preço\"].sum().sort_values(ascending=False)\n",
        "produtos_mais_vendidos = loja4.groupby(\"Categoria do Produto\")[\"Preço\"].sum().sort_values(ascending=False)\n",
        "\n",
        "produtos_mais_vendidos"
      ],
      "metadata": {
        "id": "A34YupIuYhfF",
        "colab": {
          "base_uri": "https://localhost:8080/",
          "height": 366
        },
        "outputId": "917041af-67b9-499f-f8bf-b8f9e06c1d7f"
      },
      "execution_count": null,
      "outputs": [
        {
          "output_type": "execute_result",
          "data": {
            "text/plain": [
              "Categoria do Produto\n",
              "eletronicos              545966.86\n",
              "eletrodomesticos         377680.65\n",
              "moveis                   256705.65\n",
              "instrumentos musicais    100136.50\n",
              "esporte e lazer           44465.65\n",
              "brinquedos                27015.67\n",
              "utilidades domesticas     20098.83\n",
              "livros                    12427.77\n",
              "Name: Preço, dtype: float64"
            ],
            "text/html": [
              "<div>\n",
              "<style scoped>\n",
              "    .dataframe tbody tr th:only-of-type {\n",
              "        vertical-align: middle;\n",
              "    }\n",
              "\n",
              "    .dataframe tbody tr th {\n",
              "        vertical-align: top;\n",
              "    }\n",
              "\n",
              "    .dataframe thead th {\n",
              "        text-align: right;\n",
              "    }\n",
              "</style>\n",
              "<table border=\"1\" class=\"dataframe\">\n",
              "  <thead>\n",
              "    <tr style=\"text-align: right;\">\n",
              "      <th></th>\n",
              "      <th>Preço</th>\n",
              "    </tr>\n",
              "    <tr>\n",
              "      <th>Categoria do Produto</th>\n",
              "      <th></th>\n",
              "    </tr>\n",
              "  </thead>\n",
              "  <tbody>\n",
              "    <tr>\n",
              "      <th>eletronicos</th>\n",
              "      <td>545966.86</td>\n",
              "    </tr>\n",
              "    <tr>\n",
              "      <th>eletrodomesticos</th>\n",
              "      <td>377680.65</td>\n",
              "    </tr>\n",
              "    <tr>\n",
              "      <th>moveis</th>\n",
              "      <td>256705.65</td>\n",
              "    </tr>\n",
              "    <tr>\n",
              "      <th>instrumentos musicais</th>\n",
              "      <td>100136.50</td>\n",
              "    </tr>\n",
              "    <tr>\n",
              "      <th>esporte e lazer</th>\n",
              "      <td>44465.65</td>\n",
              "    </tr>\n",
              "    <tr>\n",
              "      <th>brinquedos</th>\n",
              "      <td>27015.67</td>\n",
              "    </tr>\n",
              "    <tr>\n",
              "      <th>utilidades domesticas</th>\n",
              "      <td>20098.83</td>\n",
              "    </tr>\n",
              "    <tr>\n",
              "      <th>livros</th>\n",
              "      <td>12427.77</td>\n",
              "    </tr>\n",
              "  </tbody>\n",
              "</table>\n",
              "</div><br><label><b>dtype:</b> float64</label>"
            ]
          },
          "metadata": {},
          "execution_count": 46
        }
      ]
    },
    {
      "cell_type": "code",
      "source": [
        "# Função para gerar o ranking por loja\n",
        "def ranking_por_loja(df, nome_loja):\n",
        "    ranking = df.groupby(\"Categoria do Produto\")[\"Avaliação da compra\"].sum().sort_values(ascending=False)\n",
        "    print(f\"\\nRanking de vendas por categoria - {nome_loja}\")\n",
        "    print(ranking)\n",
        "\n",
        "# Aplicando para cada loja\n",
        "ranking_por_loja(loja1, \"Loja 1\")\n",
        "ranking_por_loja(loja2, \"Loja 2\")\n",
        "ranking_por_loja(loja3, \"Loja 3\")\n",
        "ranking_por_loja(loja4, \"Loja 4\")"
      ],
      "metadata": {
        "id": "yZR6cOjXYSk1",
        "colab": {
          "base_uri": "https://localhost:8080/"
        },
        "outputId": "4253580c-2a1e-4397-833e-5090a0d383c7"
      },
      "execution_count": null,
      "outputs": [
        {
          "output_type": "stream",
          "name": "stdout",
          "text": [
            "\n",
            "Ranking de vendas por categoria - Loja 1\n",
            "Categoria do Produto\n",
            "moveis                   1835\n",
            "eletronicos              1794\n",
            "brinquedos               1321\n",
            "eletrodomesticos         1258\n",
            "esporte e lazer          1107\n",
            "instrumentos musicais     737\n",
            "livros                    688\n",
            "utilidades domesticas     641\n",
            "Name: Avaliação da compra, dtype: int64\n",
            "\n",
            "Ranking de vendas por categoria - Loja 2\n",
            "Categoria do Produto\n",
            "moveis                   1809\n",
            "eletronicos              1676\n",
            "brinquedos               1260\n",
            "eletrodomesticos         1242\n",
            "esporte e lazer          1118\n",
            "instrumentos musicais     904\n",
            "livros                    778\n",
            "utilidades domesticas     737\n",
            "Name: Avaliação da compra, dtype: int64\n",
            "\n",
            "Ranking de vendas por categoria - Loja 3\n",
            "Categoria do Produto\n",
            "moveis                   2045\n",
            "eletronicos              1798\n",
            "brinquedos               1322\n",
            "eletrodomesticos         1115\n",
            "esporte e lazer          1091\n",
            "livros                    749\n",
            "utilidades domesticas     721\n",
            "instrumentos musicais     709\n",
            "Name: Avaliação da compra, dtype: int64\n",
            "\n",
            "Ranking de vendas por categoria - Loja 4\n",
            "Categoria do Produto\n",
            "moveis                   1919\n",
            "eletronicos              1807\n",
            "brinquedos               1348\n",
            "esporte e lazer          1123\n",
            "eletrodomesticos          998\n",
            "utilidades domesticas     806\n",
            "livros                    756\n",
            "instrumentos musicais     665\n",
            "Name: Avaliação da compra, dtype: int64\n"
          ]
        }
      ]
    },
    {
      "cell_type": "markdown",
      "source": [
        "# 3. Média de Avaliação das Lojas"
      ],
      "metadata": {
        "id": "Rq6tU_xSY3jk"
      }
    },
    {
      "cell_type": "code",
      "source": [
        "# Padronizando os nomes das colunas (evita erros com espaços/letras)\n",
        "for loja in [loja1, loja2, loja3, loja4]:\n",
        "    loja.columns = loja.columns.str.strip()\n",
        "\n",
        "# Função para calcular a média de avaliação por categoria\n",
        "def media_avaliacao_por_loja(df, nome_loja):\n",
        "    media = df.groupby(\"Categoria do Produto\")[\"Avaliação da compra\"].mean().sort_values(ascending=False)\n",
        "    print(f\"\\nMédia de avaliação por categoria - {nome_loja}\")\n",
        "    print(media.round(2))  # arredonda pra 2 casas decimais\n",
        "\n",
        "# Aplicando para cada loja\n",
        "media_avaliacao_por_loja(loja1, \"Loja 1\")\n",
        "media_avaliacao_por_loja(loja2, \"Loja 2\")\n",
        "media_avaliacao_por_loja(loja3, \"Loja 3\")\n",
        "media_avaliacao_por_loja(loja4, \"Loja 4\")"
      ],
      "metadata": {
        "id": "bh3jjjJwY5MU",
        "colab": {
          "base_uri": "https://localhost:8080/"
        },
        "outputId": "9674dfad-4073-44fc-a84d-735e94d436a3"
      },
      "execution_count": null,
      "outputs": [
        {
          "output_type": "stream",
          "name": "stdout",
          "text": [
            "\n",
            "Média de avaliação por categoria - Loja 1\n",
            "Categoria do Produto\n",
            "brinquedos               4.08\n",
            "instrumentos musicais    4.05\n",
            "eletrodomesticos         4.03\n",
            "eletronicos              4.00\n",
            "livros                   3.98\n",
            "moveis                   3.95\n",
            "esporte e lazer          3.90\n",
            "utilidades domesticas    3.75\n",
            "Name: Avaliação da compra, dtype: float64\n",
            "\n",
            "Média de avaliação por categoria - Loja 2\n",
            "Categoria do Produto\n",
            "moveis                   4.09\n",
            "eletrodomesticos         4.07\n",
            "utilidades domesticas    4.07\n",
            "esporte e lazer          4.07\n",
            "instrumentos musicais    4.04\n",
            "brinquedos               4.03\n",
            "eletronicos              3.97\n",
            "livros                   3.95\n",
            "Name: Avaliação da compra, dtype: float64\n",
            "\n",
            "Média de avaliação por categoria - Loja 3\n",
            "Categoria do Produto\n",
            "brinquedos               4.20\n",
            "moveis                   4.10\n",
            "utilidades domesticas    4.07\n",
            "livros                   4.05\n",
            "eletrodomesticos         4.01\n",
            "instrumentos musicais    4.01\n",
            "eletronicos              3.99\n",
            "esporte e lazer          3.94\n",
            "Name: Avaliação da compra, dtype: float64\n",
            "\n",
            "Média de avaliação por categoria - Loja 4\n",
            "Categoria do Produto\n",
            "esporte e lazer          4.05\n",
            "livros                   4.04\n",
            "utilidades domesticas    4.01\n",
            "eletronicos              4.01\n",
            "moveis                   4.00\n",
            "brinquedos               3.99\n",
            "eletrodomesticos         3.93\n",
            "instrumentos musicais    3.91\n",
            "Name: Avaliação da compra, dtype: float64\n"
          ]
        }
      ]
    },
    {
      "cell_type": "code",
      "source": [],
      "metadata": {
        "id": "I0KkjPoTY88F"
      },
      "execution_count": null,
      "outputs": []
    },
    {
      "cell_type": "markdown",
      "source": [
        "# 4. Produtos Mais e Menos Vendidos"
      ],
      "metadata": {
        "id": "DmNp1KPBZCm-"
      }
    },
    {
      "cell_type": "code",
      "source": [
        "def mais_menos_vendidos(df, nome_loja):\n",
        "    grupo = df.groupby(\"Categoria do Produto\")[\"Avaliação da compra\"].sum()\n",
        "    mais_vendido = grupo.idxmax()\n",
        "    menos_vendido = grupo.idxmin()\n",
        "    print(f\"\\n{' Resultados - ' + nome_loja + ' ':=^50}\")\n",
        "    print(f\"📈 Loja: {nome_loja}\")\n",
        "    print(f\"🔝 Categoria mais vendida: {mais_vendido} ({grupo[mais_vendido]} vendas)\")\n",
        "    print(f\"🔻 Categoria menos vendida: {menos_vendido} ({grupo[menos_vendido]} vendas)\")\n",
        "\n",
        "# Aplicando para cada loja\n",
        "mais_menos_vendidos(loja1, \"Loja 1\")\n",
        "mais_menos_vendidos(loja2, \"Loja 2\")\n",
        "mais_menos_vendidos(loja3, \"Loja 3\")\n",
        "mais_menos_vendidos(loja4, \"Loja 4\")\n"
      ],
      "metadata": {
        "id": "qoyjqijQZHfF",
        "colab": {
          "base_uri": "https://localhost:8080/"
        },
        "outputId": "bda96883-1dd8-4d22-9ab4-db121ae4a2e8"
      },
      "execution_count": null,
      "outputs": [
        {
          "output_type": "stream",
          "name": "stdout",
          "text": [
            "\n",
            "============== Resultados - Loja 1 ===============\n",
            "📈 Loja: Loja 1\n",
            "🔝 Categoria mais vendida: moveis (1835 vendas)\n",
            "🔻 Categoria menos vendida: utilidades domesticas (641 vendas)\n",
            "\n",
            "============== Resultados - Loja 2 ===============\n",
            "📈 Loja: Loja 2\n",
            "🔝 Categoria mais vendida: moveis (1809 vendas)\n",
            "🔻 Categoria menos vendida: utilidades domesticas (737 vendas)\n",
            "\n",
            "============== Resultados - Loja 3 ===============\n",
            "📈 Loja: Loja 3\n",
            "🔝 Categoria mais vendida: moveis (2045 vendas)\n",
            "🔻 Categoria menos vendida: instrumentos musicais (709 vendas)\n",
            "\n",
            "============== Resultados - Loja 4 ===============\n",
            "📈 Loja: Loja 4\n",
            "🔝 Categoria mais vendida: moveis (1919 vendas)\n",
            "🔻 Categoria menos vendida: instrumentos musicais (665 vendas)\n"
          ]
        }
      ]
    },
    {
      "cell_type": "code",
      "source": [
        "\n"
      ],
      "metadata": {
        "id": "0Sw3sd4IZIGW"
      },
      "execution_count": null,
      "outputs": []
    },
    {
      "cell_type": "code",
      "source": [
        "import matplotlib.pyplot as plt\n",
        "\n",
        "def grafico_vendas_por_loja():\n",
        "    # Soma total de vendas por loja\n",
        "    vendas_por_loja = todas_lojas.groupby(\"Loja\")[\"Avaliação da compra\"].sum().sort_values(ascending=False)\n",
        "\n",
        "    # Destaques\n",
        "    loja_top = vendas_por_loja.idxmax()\n",
        "    loja_pior = vendas_por_loja.idxmin()\n",
        "\n",
        "    # Cores: destaque pra maior e menor\n",
        "    cores = ['green' if loja == loja_top else\n",
        "             'red' if loja == loja_pior else\n",
        "             'gray' for loja in vendas_por_loja.index]\n",
        "\n",
        "    # Gráfico de barras\n",
        "    plt.figure(figsize=(8, 6))\n",
        "    plt.bar(vendas_por_loja.index, vendas_por_loja.values, color=cores)\n",
        "    plt.title(\"📊 Vendas totais por loja\")\n",
        "    plt.xlabel(\"Loja\")\n",
        "    plt.ylabel(\"Total de Vendas (Avaliação da compra)\")\n",
        "    plt.tight_layout()\n",
        "\n",
        "    # Anotações\n",
        "    for i, v in enumerate(vendas_por_loja.values):\n",
        "        plt.text(i, v + 2, f\"{v:.0f}\", ha='center', fontweight='bold')\n",
        "\n",
        "    plt.show()\n"
      ],
      "metadata": {
        "id": "vPDSyXoECyUR"
      },
      "execution_count": null,
      "outputs": []
    },
    {
      "cell_type": "code",
      "source": [
        "grafico_vendas_por_loja()\n"
      ],
      "metadata": {
        "colab": {
          "base_uri": "https://localhost:8080/",
          "height": 696
        },
        "id": "ICxwNHgQGXuM",
        "outputId": "aa7d0d36-e66d-4821-df68-6a6da0e86ff7"
      },
      "execution_count": null,
      "outputs": [
        {
          "output_type": "stream",
          "name": "stderr",
          "text": [
            "<ipython-input-50-6e38d99a26b5>:22: UserWarning: Glyph 128202 (\\N{BAR CHART}) missing from font(s) DejaVu Sans.\n",
            "  plt.tight_layout()\n",
            "/usr/local/lib/python3.11/dist-packages/IPython/core/pylabtools.py:151: UserWarning: Glyph 128202 (\\N{BAR CHART}) missing from font(s) DejaVu Sans.\n",
            "  fig.canvas.print_figure(bytes_io, **kw)\n"
          ]
        },
        {
          "output_type": "display_data",
          "data": {
            "text/plain": [
              "<Figure size 800x600 with 1 Axes>"
            ],
            "image/png": "[encoded data removed]"
          },
          "metadata": {}
        }
      ]
    },
    {
      "cell_type": "code",
      "source": [
        "def grafico_pizza_vendas_lojas():\n",
        "    # Total de vendas por loja\n",
        "    vendas_por_loja = todas_lojas.groupby(\"Loja\")[\"Avaliação da compra\"].sum().sort_values(ascending=False)\n",
        "\n",
        "    # Gráfico de pizza\n",
        "    plt.figure(figsize=(8, 8))\n",
        "    plt.pie(vendas_por_loja,\n",
        "            labels=vendas_por_loja.index,\n",
        "            autopct='%1.1f%%',\n",
        "            startangle=90,\n",
        "            colors=[\"green\", \"blue\", \"gray\", \"red\"],  # Verde: mais vendas | Vermelho: menos\n",
        "            shadow=True)\n",
        "\n",
        "    plt.title(\"🥧 Participação das lojas no total de vendas\")\n",
        "    plt.axis('equal')\n",
        "    plt.tight_layout()\n",
        "    plt.show()\n"
      ],
      "metadata": {
        "id": "sPFabGoZGbPJ"
      },
      "execution_count": null,
      "outputs": []
    },
    {
      "cell_type": "code",
      "source": [
        "grafico_pizza_vendas_lojas()\n"
      ],
      "metadata": {
        "colab": {
          "base_uri": "https://localhost:8080/",
          "height": 896
        },
        "id": "KxHtwadjHdLF",
        "outputId": "2af05c0c-07c1-4744-bfc2-06b11f1ad555"
      },
      "execution_count": null,
      "outputs": [
        {
          "output_type": "stream",
          "name": "stderr",
          "text": [
            "<ipython-input-52-d23ff787c57a>:16: UserWarning: Glyph 129383 (\\N{PIE}) missing from font(s) DejaVu Sans.\n",
            "  plt.tight_layout()\n",
            "/usr/local/lib/python3.11/dist-packages/IPython/core/pylabtools.py:151: UserWarning: Glyph 129383 (\\N{PIE}) missing from font(s) DejaVu Sans.\n",
            "  fig.canvas.print_figure(bytes_io, **kw)\n"
          ]
        },
        {
          "output_type": "display_data",
          "data": {
            "text/plain": [
              "<Figure size 800x800 with 1 Axes>"
            ],
            "image/png": "[encoded data removed]"
          },
          "metadata": {}
        }
      ]
    },
    {
      "cell_type": "code",
      "source": [
        "# Total de vendas por loja (soma da avaliação da compra)\n",
        "vendas_totais = {\n",
        "    \"Loja 1\": loja1[\"Avaliação da compra\"].sum(),\n",
        "    \"Loja 2\": loja2[\"Avaliação da compra\"].sum(),\n",
        "    \"Loja 3\": loja3[\"Avaliação da compra\"].sum(),\n",
        "    \"Loja 4\": loja4[\"Avaliação da compra\"].sum()\n",
        "}\n",
        "\n",
        "# Exibir resultados\n",
        "for loja, total in vendas_totais.items():\n",
        "    print(f\"{loja} - Total de vendas: {total:.0f}\")\n",
        "\n",
        "# Identificar a loja com menor volume\n",
        "pior_loja = min(vendas_totais, key=vendas_totais.get)\n",
        "print(f\"\\n🔻 Loja com menor volume de vendas: {pior_loja}\")\n"
      ],
      "metadata": {
        "colab": {
          "base_uri": "https://localhost:8080/"
        },
        "id": "MA7Nx1X2Ezxs",
        "outputId": "e10f7cbf-a86b-4e48-feb6-6e25facb4092"
      },
      "execution_count": null,
      "outputs": [
        {
          "output_type": "stream",
          "name": "stdout",
          "text": [
            "Loja 1 - Total de vendas: 9381\n",
            "Loja 2 - Total de vendas: 9524\n",
            "Loja 3 - Total de vendas: 9550\n",
            "Loja 4 - Total de vendas: 9422\n",
            "\n",
            "🔻 Loja com menor volume de vendas: Loja 1\n"
          ]
        }
      ]
    },
    {
      "cell_type": "code",
      "source": [
        "def grafico_barras_vendas_lojas():\n",
        "    # Total de vendas por loja\n",
        "    vendas_por_loja = todas_lojas.groupby(\"Loja\")[\"Avaliação da compra\"].sum().sort_values(ascending=False)\n",
        "\n",
        "    # Destaques\n",
        "    loja_top = vendas_por_loja.idxmax()\n",
        "    loja_pior = vendas_por_loja.idxmin()\n",
        "\n",
        "    # Cores: verde para a loja mais vendida, vermelho para a menos\n",
        "    cores = ['green' if loja == loja_top else\n",
        "             'red' if loja == loja_pior else\n",
        "             'gray' for loja in vendas_por_loja.index]\n",
        "\n",
        "    # Gráfico de barras horizontais\n",
        "    plt.figure(figsize=(10, 6))\n",
        "    bars = plt.barh(vendas_por_loja.index, vendas_por_loja.values, color=cores)\n",
        "\n",
        "    plt.title(\"📊 Total de Vendas por Loja (Barras Horizontais)\")\n",
        "    plt.xlabel(\"Total de Vendas (Avaliação da compra)\")\n",
        "    plt.ylabel(\"Loja\")\n",
        "    plt.xlim(0, vendas_por_loja.max() * 1.1)  # Espaço para os valores\n",
        "\n",
        "    # Adiciona o valor ao lado de cada barra\n",
        "    for bar in bars:\n",
        "        plt.text(bar.get_width() + 5, bar.get_y() + bar.get_height() / 2, f'{bar.get_width():.0f}',\n",
        "                 va='center', fontweight='bold')\n",
        "\n",
        "    plt.tight_layout()\n",
        "    plt.show()\n"
      ],
      "metadata": {
        "id": "nA9XHaruIGEa"
      },
      "execution_count": null,
      "outputs": []
    },
    {
      "cell_type": "code",
      "source": [
        "grafico_barras_vendas_lojas()\n",
        "\n"
      ],
      "metadata": {
        "colab": {
          "base_uri": "https://localhost:8080/",
          "height": 696
        },
        "id": "YTqdfW5LILyT",
        "outputId": "e64b3865-2a06-4629-a889-167e4e58f5ed"
      },
      "execution_count": null,
      "outputs": [
        {
          "output_type": "stream",
          "name": "stderr",
          "text": [
            "<ipython-input-55-2632bb433d02>:28: UserWarning: Glyph 128202 (\\N{BAR CHART}) missing from font(s) DejaVu Sans.\n",
            "  plt.tight_layout()\n",
            "/usr/local/lib/python3.11/dist-packages/IPython/core/pylabtools.py:151: UserWarning: Glyph 128202 (\\N{BAR CHART}) missing from font(s) DejaVu Sans.\n",
            "  fig.canvas.print_figure(bytes_io, **kw)\n"
          ]
        },
        {
          "output_type": "display_data",
          "data": {
            "text/plain": [
              "<Figure size 1000x600 with 1 Axes>"
            ],
            "image/png": "[encoded data removed]"
          },
          "metadata": {}
        }
      ]
    },
    {
      "cell_type": "markdown",
      "source": [
        "# 5. Frete Médio por Loja\n"
      ],
      "metadata": {
        "id": "Fl0cGi3bZKqU"
      }
    },
    {
      "cell_type": "code",
      "source": [
        "def frete_medio(df, nome_loja):\n",
        "    # Calcular a soma total dos fretes\n",
        "    total_frete = df[\"Frete\"].sum()\n",
        "\n",
        "    # Contar o número de registros para dividir o total de frete\n",
        "    numero_de_pedidos = df.shape[0]\n",
        "\n",
        "    # Calcular a média de frete\n",
        "    media_frete = total_frete / numero_de_pedidos\n",
        "\n",
        "    # Exibir os resultados\n",
        "    print(f\"\\n{' Frete Médio - ' + nome_loja + ' ':=^50}\")\n",
        "    print(f\"📦 Loja: {nome_loja}\")\n",
        "    print(f\"💰 Total gasto com frete: R${total_frete:.2f}\")\n",
        "    print(f\"🔢 Número de pedidos: {numero_de_pedidos}\")\n",
        "    print(f\"📊 Frete médio por pedido: R${media_frete:.2f}\")\n"
      ],
      "metadata": {
        "id": "S2JeaCykZNy9"
      },
      "execution_count": null,
      "outputs": []
    },
    {
      "cell_type": "code",
      "source": [
        "frete_medio(loja1, \"Loja 1\")\n",
        "frete_medio(loja2, \"Loja 2\")\n",
        "frete_medio(loja3, \"Loja 3\")\n",
        "frete_medio(loja4, \"Loja 4\")"
      ],
      "metadata": {
        "id": "0tSdCie9ZQlt",
        "colab": {
          "base_uri": "https://localhost:8080/"
        },
        "outputId": "ff4ea75c-6e98-45b6-cbfa-6286030a079c"
      },
      "execution_count": null,
      "outputs": [
        {
          "output_type": "stream",
          "name": "stdout",
          "text": [
            "\n",
            "============== Frete Médio - Loja 1 ==============\n",
            "📦 Loja: Loja 1\n",
            "💰 Total gasto com frete: R$81837.97\n",
            "🔢 Número de pedidos: 2359\n",
            "📊 Frete médio por pedido: R$34.69\n",
            "\n",
            "============== Frete Médio - Loja 2 ==============\n",
            "📦 Loja: Loja 2\n",
            "💰 Total gasto com frete: R$79314.16\n",
            "🔢 Número de pedidos: 2359\n",
            "📊 Frete médio por pedido: R$33.62\n",
            "\n",
            "============== Frete Médio - Loja 3 ==============\n",
            "📦 Loja: Loja 3\n",
            "💰 Total gasto com frete: R$78022.66\n",
            "🔢 Número de pedidos: 2359\n",
            "📊 Frete médio por pedido: R$33.07\n",
            "\n",
            "============== Frete Médio - Loja 4 ==============\n",
            "📦 Loja: Loja 4\n",
            "💰 Total gasto com frete: R$73755.88\n",
            "🔢 Número de pedidos: 2358\n",
            "📊 Frete médio por pedido: R$31.28\n"
          ]
        }
      ]
    },
    {
      "cell_type": "code",
      "source": [],
      "metadata": {
        "id": "c3l9gJp8b5bS"
      },
      "execution_count": null,
      "outputs": []
    },
    {
      "cell_type": "code",
      "source": [],
      "metadata": {
        "id": "_cLias86b9ZB"
      },
      "execution_count": null,
      "outputs": []
    },
    {
      "cell_type": "markdown",
      "source": [],
      "metadata": {
        "id": "X0qdivSt0MXz"
      }
    },
    {
      "cell_type": "markdown",
      "source": [
        "**Relatório**\n",
        "\n",
        "\n",
        "**Introdução**\n",
        "\n",
        "Este relatório tem como objetivo analisar o desempenho de 4 lojas com base nas vendas e no frete. O foco é identificar qual loja tem o melhor desempenho de vendas e qual loja está com o pior desempenho. A partir dessa análise, serão feitas sugestões para melhorar o desempenho da loja que apresenta menores resultados.\n",
        "\n",
        "**Análise de Vendas**\n",
        "\n",
        "***Total de Vendas por Loja***\n",
        "\n",
        "Com base no total de vendas (representado pela Avaliação da compra) de cada loja, temos o seguinte desempenho:\n",
        "\n",
        "   Loja com maior volume de vendas\n",
        "\n",
        "A Loja 3 foi a que apresentou o maior volume de vendas, com um total de R$ X.XXX,XX. A loja tem se destacado principalmente devido à alta demanda por seus produtos e uma boa estratégia de marketing.\n",
        "\n",
        "   Loja com menor volume de vendas\n",
        "\n",
        "A Loja 1 apresentou o menor volume de vendas, com um total de R$ X.XXX,XX. A loja precisa de ajustes para aumentar suas vendas, como discutido mais adiante.\n",
        "Geramos gráficos para melhor ilustrar as vendas totais de cada loja, destacando a loja que vende mais (em verde) e a loja que vende menos (em vermelho).\n",
        "\n",
        "Justificativa para a Loja com Menor Volume de Vendas\n",
        "\n",
        "A Loja 1 apresenta o menor volume de vendas, e isso pode ser explicado por diversos fatores:\n",
        "    1. Falta de Visibilidade no Mercado:\n",
        "A loja pode não estar suficientemente visível para o público-alvo, o que pode impactar diretamente nas vendas.\n",
        "    2. Problemas de Preço e Concorrência:\n",
        "Comparando com as lojas concorrentes, a Loja 1 pode ter preços mais altos, o que leva os consumidores a buscar alternativas mais baratas. Importante avaliar estratégias de precificação e promoções pode ser uma boa saída.\n",
        "    3. Baixa Atração dos Produtos:\n",
        "Os produtos da loja podem não ser tão atraentes ou inovadores quanto os oferecidos por outras lojas, o que pode ser um motivo para o baixo volume de vendas.\n",
        "    4. Problemas Operacionais:\n",
        "Possíveis problemas logísticos ou de atendimento ao cliente também podem influenciar no desempenho de vendas. Uma revisão de processos pode ajudar a melhorar a experiência de compra.\n",
        "\n",
        "Análise de Frete\n",
        "Além das vendas, analisamos também o custo de frete de cada loja, que é um fator importante no desempenho total de vendas.\n",
        "\n",
        " Cálculo do Frete Médio por Loja\n",
        "\n",
        "O frete médio foi calculado com base no valor total gasto com frete e o número de pedidos em cada loja. Os resultados são os seguintes:\n",
        "   \n",
        "    • Loja 3:\n",
        "O frete médio por pedido foi de R$ 33,07com total gasto de R$ 7.8022.66em frete.\n",
        "    \n",
        "    • Loja 1:\n",
        "O frete médio por pedido foi de R$ 34,69, com um total gasto de R$ 8.1837,91 em frete.\n",
        "\n",
        "Gráfico Comparativo de Frete Médio:\n",
        "\n",
        "Um gráfico de barras horizontais foi gerado para comparar o frete médio entre as lojas. Cada barra representa o valor do frete médio gasto por pedido em cada loja.\n",
        "\n",
        "Conclusões e Recomendações\n",
        "\n",
        "Loja com Melhor Desempenho : Loja 3\n",
        "\n",
        "A Loja 3 apresentou o melhor desempenho de vendas e o maior volume de vendas, o que demonstra que ela possui uma boa estratégia de vendas, produtos bem posicionados e uma gestão de marketing eficiente. Para manter esse desempenho, recomenda-se continuar com as estratégias atuais e expandir a divulgação de seus produtos.\n",
        "\n",
        "Loja com Pior Desempenho: Loja 1\n",
        "\n",
        "A Loja 1 apresenta um desempenho inferior e, por isso, são necessárias algumas ações corretivas para melhorar suas vendas:\n",
        "\n",
        "    • Melhorar a Visibilidade e Marketing: Investir em campanhas promocionais, publicidade e ações direcionadas nas plataformas de e-commerce pode aumentar a visibilidade da loja.\n",
        "    • Avaliar Preços e Produtos: Realizar uma pesquisa de mercado para ajustar os preços e renovar o portfólio de produtos pode atrair mais clientes.\n",
        "    • Revisar Processos Operacionais: Melhorias na logística, no atendimento ao cliente e na experiência de compra podem melhorar a satisfação dos consumidores e aumentar as vendas.\n",
        "\n",
        "Ações para Reduzir o Custo de Frete\n",
        "\n",
        "Embora o custo de frete não tenha sido uma preocupação central, é sempre interessante analisar a possibilidade de reduzir esse custo. A Loja 1, por exemplo, pode buscar alternativas de frete mais eficientes ou combinar fretes para reduzir os gastos.\n",
        "\n"
      ],
      "metadata": {
        "id": "RwNJ7iAUIvwt"
      }
    }
  ]
}